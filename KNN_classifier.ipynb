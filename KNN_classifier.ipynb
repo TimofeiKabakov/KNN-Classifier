{
 "cells": [
  {
   "cell_type": "markdown",
   "metadata": {},
   "source": [
    "# Histogram of Curvature Scale Implementation:"
   ]
  },
  {
   "cell_type": "code",
   "execution_count": 24,
   "metadata": {},
   "outputs": [],
   "source": [
    "import numpy as np\n",
    "import skimage.io as io\n",
    "import skimage.morphology as morph\n",
    "import skimage.feature as feat\n",
    "import skimage.measure as measure\n",
    "import matplotlib.pyplot as plt\n",
    "import skimage.segmentation as seg\n",
    "\n",
    "def find_edge_coordinates(B):\n",
    "    boundaries = seg.find_boundaries(B, connectivity = 1, mode = 'inner')\n",
    "    edge_coordinates = np.where(boundaries > 0)\n",
    "    edge_coordinates = np.transpose(np.vstack(edge_coordinates))\n",
    "    return edge_coordinates\n",
    "\n",
    "def find_curvature(B, edge_coordinates, radius, num_bins, increment):\n",
    "    k_p_values = []\n",
    "    \n",
    "    for coordinates in edge_coordinates:\n",
    "        y_coord = coordinates[0]\n",
    "        x_coord = coordinates[1]\n",
    "        \n",
    "        disk = morph.disk(radius)\n",
    "        original_values = B[y_coord - radius : y_coord + radius + 1, x_coord - radius : x_coord + radius + 1]\n",
    "        region_values = np.where(disk, original_values, 0)\n",
    "        \n",
    "        L = morph.label(region_values > 0)\n",
    "        props = measure.regionprops(L)\n",
    "        \n",
    "        k_p = 0\n",
    "        if len(props) > 0:\n",
    "            area_c_r = props[0]['area_filled']\n",
    "            area_c = np.pi * (radius ** 2)\n",
    "            k_p = area_c_r / area_c\n",
    "\n",
    "        k_p_values.append(k_p)\n",
    "\n",
    "    hist, unused = np.histogram(k_p_values, bins = num_bins, range=(0, 1))\n",
    "    hist = hist / np.sum(hist)\n",
    "    \n",
    "    return hist\n",
    "\n",
    "def HoCS(B, min_scale, max_scale, increment, num_bins):\n",
    "    histograms = []\n",
    "    \n",
    "    B = np.pad(B, pad_width = max_scale + increment, mode = 'constant', constant_values = 0)\n",
    "    edge_coordinates = find_edge_coordinates(B)\n",
    "    \n",
    "    for scale in range(min_scale, max_scale + 1, increment):\n",
    "        histogram = find_curvature(B, edge_coordinates, scale, num_bins, increment)\n",
    "        histograms.extend(histogram)\n",
    "        \n",
    "    return histograms"
   ]
  },
  {
   "cell_type": "markdown",
   "metadata": {},
   "source": [
    "# Testing the HoCS function:"
   ]
  },
  {
   "cell_type": "code",
   "execution_count": 31,
   "metadata": {},
   "outputs": [
    {
     "data": {
      "image/png": "[encoded data removed]",
      "text/plain": [
       "<Figure size 640x480 with 1 Axes>"
      ]
     },
     "metadata": {},
     "output_type": "display_data"
    }
   ],
   "source": [
    "import skimage.io as io\n",
    "%matplotlib inline\n",
    "\n",
    "min_scale = 5\n",
    "max_scale = 25\n",
    "increment = 10\n",
    "num_bins = 10\n",
    "\n",
    "img = io.imread('./MPEG7dataset/training-set/apple-1.png', as_gray = True)\n",
    "histogram = HoCS(img, min_scale, max_scale, increment, num_bins)\n",
    "\n",
    "plt.bar(np.arange(max_scale + min_scale), histogram, color = 'steelblue', align = 'center')\n",
    "\n",
    "plt.ylim(0, 1)\n",
    "plt.show()"
   ]
  },
  {
   "cell_type": "markdown",
   "metadata": {},
   "source": [
    "# Calculating Training Features:"
   ]
  },
  {
   "cell_type": "code",
   "execution_count": 2,
   "metadata": {},
   "outputs": [
    {
     "name": "stdout",
     "output_type": "stream",
     "text": [
      "DONE\n"
     ]
    }
   ],
   "source": [
    "import os as os\n",
    "import pandas as pd\n",
    "\n",
    "with open('categories.txt', 'r') as file:\n",
    "    CATEGORIES = [line.strip() for line in file if line.strip()]\n",
    "\n",
    "category_to_label = {cat: idx + 1 for idx, cat in enumerate(CATEGORIES)}\n",
    "\n",
    "trainingSetDir = './MPEG7dataset/training-set/'\n",
    "min_scale = 1\n",
    "max_scale = 30\n",
    "increment = 5\n",
    "num_bins = 10\n",
    "\n",
    "training_files = [f for f in os.listdir(trainingSetDir) if f.endswith('.png')]\n",
    "\n",
    "descriptorsArray = []\n",
    "training_labels = []\n",
    "\n",
    "for i, file_name in enumerate(training_files):\n",
    "    category = file_name.split('-')[0]\n",
    "    \n",
    "    if category not in category_to_label:\n",
    "        continue\n",
    "\n",
    "    label = category_to_label[category]\n",
    "\n",
    "    img_path = os.path.join(trainingSetDir, file_name)\n",
    "    img = io.imread(img_path, as_gray = True)\n",
    "    histograms = HoCS(img, min_scale, max_scale, increment, num_bins)\n",
    "\n",
    "    descriptorsArray.append(histograms)\n",
    "    training_labels.append(label)\n",
    "    \n",
    "print('DONE')"
   ]
  },
  {
   "cell_type": "markdown",
   "metadata": {},
   "source": [
    "# Calculating Testing Features:"
   ]
  },
  {
   "cell_type": "code",
   "execution_count": 4,
   "metadata": {},
   "outputs": [
    {
     "name": "stdout",
     "output_type": "stream",
     "text": [
      "DONE\n"
     ]
    }
   ],
   "source": [
    "import os as os\n",
    "import pandas as pd\n",
    "\n",
    "testingSetDir = './MPEG7dataset/testing-set/'\n",
    "\n",
    "testing_files = [f for f in os.listdir(testingSetDir) if f.endswith('.png')]\n",
    "\n",
    "descriptorsTestingArray = []\n",
    "testing_labels = []\n",
    "\n",
    "for i, file_name in enumerate(testing_files):\n",
    "    category = file_name.split('-')[0]\n",
    "    \n",
    "    if category not in category_to_label:\n",
    "        continue\n",
    "    else:\n",
    "        label = category_to_label[category]\n",
    "\n",
    "    img_path = os.path.join(testingSetDir, file_name)\n",
    "    img = io.imread(img_path, as_gray=True)\n",
    "    histograms = HoCS(img, min_scale, max_scale, increment, num_bins)\n",
    "\n",
    "    descriptorsTestingArray.append(histograms)\n",
    "    testing_labels.append(label)\n",
    "\n",
    "print('DONE')"
   ]
  },
  {
   "cell_type": "markdown",
   "metadata": {},
   "source": [
    "# Training KNN and Classfying Testing Features:"
   ]
  },
  {
   "cell_type": "code",
   "execution_count": 42,
   "metadata": {
    "tags": []
   },
   "outputs": [
    {
     "name": "stdout",
     "output_type": "stream",
     "text": [
      "Classification Rate: 0.7095238095238096 \n",
      "\n",
      "Confusion Matrix:\n",
      " [[2 0 0 ... 0 0 0]\n",
      " [0 3 0 ... 0 0 0]\n",
      " [0 0 3 ... 0 0 0]\n",
      " ...\n",
      " [0 0 0 ... 3 0 0]\n",
      " [0 0 0 ... 0 1 0]\n",
      " [0 0 0 ... 0 0 3]] \n",
      "\n",
      "Incorrectly classified images:\n",
      "device5-13.png expected: device5, but classified as Glas\n",
      "bell-12.png expected: bell, but classified as brick\n",
      "device0-13.png expected: device0, but classified as device1\n",
      "guitar-12.png expected: guitar, but classified as deer\n",
      "horseshoe-12.png expected: horseshoe, but classified as stef\n",
      "device1-12.png expected: device1, but classified as device0\n",
      "device4-13.png expected: device4, but classified as Glas\n",
      "turtle-13.png expected: turtle, but classified as deer\n",
      "pocket-13.png expected: pocket, but classified as chicken\n",
      "key-12.png expected: key, but classified as shoe\n",
      "hat-12.png expected: hat, but classified as lizzard\n",
      "flatfish-11.png expected: flatfish, but classified as hat\n",
      "bird-13.png expected: bird, but classified as elephant\n",
      "ray-13.png expected: ray, but classified as guitar\n",
      "personal_car-12.png expected: personal_car, but classified as key\n",
      "camel-13.png expected: camel, but classified as elephant\n",
      "cattle-11.png expected: cattle, but classified as deer\n",
      "deer-12.png expected: deer, but classified as lizzard\n",
      "device3-13.png expected: device3, but classified as fork\n",
      "sea_snake-11.png expected: sea_snake, but classified as flatfish\n",
      "fork-13.png expected: fork, but classified as elephant\n",
      "device0-12.png expected: device0, but classified as device1\n",
      "pencil-11.png expected: pencil, but classified as hammer\n",
      "hat-11.png expected: hat, but classified as elephant\n",
      "butterfly-13.png expected: butterfly, but classified as chicken\n",
      "device0-11.png expected: device0, but classified as pocket\n",
      "fish-12.png expected: fish, but classified as bird\n",
      "horse-13.png expected: horse, but classified as dog\n",
      "hat-13.png expected: hat, but classified as bird\n",
      "personal_car-11.png expected: personal_car, but classified as shoe\n",
      "sea_snake-13.png expected: sea_snake, but classified as flatfish\n",
      "device4-11.png expected: device4, but classified as Glas\n",
      "pencil-12.png expected: pencil, but classified as hammer\n",
      "device1-13.png expected: device1, but classified as device7\n",
      "lmfish-11.png expected: lmfish, but classified as chicken\n",
      "shoe-13.png expected: shoe, but classified as personal_car\n",
      "lizzard-12.png expected: lizzard, but classified as rat\n",
      "tree-12.png expected: tree, but classified as brick\n",
      "dog-11.png expected: dog, but classified as elephant\n",
      "pencil-13.png expected: pencil, but classified as hammer\n",
      "device5-12.png expected: device5, but classified as device4\n",
      "device7-12.png expected: device7, but classified as device2\n",
      "device9-13.png expected: device9, but classified as jar\n",
      "cup-11.png expected: cup, but classified as flatfish\n",
      "bell-11.png expected: bell, but classified as brick\n",
      "deer-13.png expected: deer, but classified as lizzard\n",
      "ray-11.png expected: ray, but classified as guitar\n",
      "device8-11.png expected: device8, but classified as device5\n",
      "lizzard-11.png expected: lizzard, but classified as rat\n",
      "Bone-12.png expected: Bone, but classified as rat\n",
      "key-13.png expected: key, but classified as personal_car\n",
      "butterfly-12.png expected: butterfly, but classified as chicken\n",
      "sea_snake-12.png expected: sea_snake, but classified as fish\n",
      "device9-12.png expected: device9, but classified as device0\n",
      "flatfish-12.png expected: flatfish, but classified as personal_car\n",
      "lmfish-12.png expected: lmfish, but classified as fish\n",
      "key-11.png expected: key, but classified as watch\n",
      "turtle-12.png expected: turtle, but classified as dog\n",
      "fork-11.png expected: fork, but classified as jar\n",
      "fish-13.png expected: fish, but classified as bird\n",
      "device6-11.png expected: device6, but classified as device8\n"
     ]
    }
   ],
   "source": [
    "import numpy as np\n",
    "import sklearn.neighbors as neigh\n",
    "from sklearn.metrics import confusion_matrix\n",
    "\n",
    "# Training the KNN classifier using the extracted feature vectors \n",
    "knn = neigh.KNeighborsClassifier(n_neighbors = 2, weights = 'distance')\n",
    "knn.fit(descriptorsArray, training_labels)\n",
    "\n",
    "# Classify images from the testing set\n",
    "y_pred = knn.predict(descriptorsTestingArray)\n",
    "y_true = np.array(testing_labels)\n",
    "\n",
    "conf_matrix = confusion_matrix(y_true, y_pred)\n",
    "classification_rate = np.trace(conf_matrix) / len(y_true)\n",
    "\n",
    "print(\"Classification Rate:\", classification_rate, '\\n')\n",
    "\n",
    "print(\"Confusion Matrix:\\n\", conf_matrix, '\\n')\n",
    "\n",
    "label_to_category = {value: key for key, value in category_to_label.items()}\n",
    "\n",
    "print('Incorrectly classified images:')\n",
    "incorrect_class = testing_labels - y_pred\n",
    "for file_index in incorrect_class.nonzero()[0]:\n",
    "    print(testing_files[file_index], 'expected: ' + str(label_to_category.get(testing_labels[file_index])) + ', but classified as ' + str(label_to_category.get(y_pred[file_index])))"
   ]
  }
 ],
 "metadata": {
  "kernelspec": {
   "display_name": "Python 3 (ipykernel)",
   "language": "python",
   "name": "python3"
  },
  "language_info": {
   "codemirror_mode": {
    "name": "ipython",
    "version": 3
   },
   "file_extension": ".py",
   "mimetype": "text/x-python",
   "name": "python",
   "nbconvert_exporter": "python",
   "pygments_lexer": "ipython3",
   "version": "3.10.12"
  }
 },
 "nbformat": 4,
 "nbformat_minor": 4
}
